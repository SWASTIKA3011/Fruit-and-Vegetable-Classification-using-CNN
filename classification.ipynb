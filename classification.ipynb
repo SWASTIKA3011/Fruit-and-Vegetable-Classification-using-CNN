{
  "cells": [
    {
      "cell_type": "markdown",
      "id": "ed4f40f2",
      "metadata": {},
      "source": [
        "## IMPORTING LIBRARIES"
      ]
    },
    {
      "cell_type": "code",
      "execution_count": null,
      "id": "f4402ccb",
      "metadata": {
        "id": "f4402ccb",
        "outputId": "91d782c0-c328-4da1-d967-0173ece43f43"
      },
      "outputs": [],
      "source": [
        "import os\n",
        "import numpy as np\n",
        "import tensorflow as tf\n",
        "from tensorflow.keras.preprocessing.image import ImageDataGenerator\n",
        "from tensorflow.keras.models import Sequential\n",
        "from tensorflow.keras.layers import Conv2D, MaxPooling2D, Flatten, Dense, Dropout, BatchNormalization\n",
        "from tensorflow.keras.callbacks import EarlyStopping\n",
        "from pathlib import Path\n",
        "import os.path\n",
        "import matplotlib.pyplot as plt\n",
        "from tensorflow.keras.preprocessing.image import load_img,img_to_array\n"
      ]
    },
    {
      "cell_type": "markdown",
      "id": "0faae616",
      "metadata": {},
      "source": [
        "## DATA LOADING"
      ]
    },
    {
      "cell_type": "code",
      "execution_count": null,
      "id": "63704b69",
      "metadata": {},
      "outputs": [],
      "source": [
        "base_dir = \"/Users/swastika/Fruit_Vegetable_Recognition/archive-3\"\n",
        "train_dir = os.path.join(base_dir, \"train\")\n",
        "validation_dir = os.path.join(base_dir, \"validation\")\n",
        "test_dir = os.path.join(base_dir, \"test\")"
      ]
    },
    {
      "cell_type": "markdown",
      "id": "f66da699",
      "metadata": {},
      "source": [
        "## DATA AUGMENTATION"
      ]
    },
    {
      "cell_type": "code",
      "execution_count": null,
      "id": "e1428bb6",
      "metadata": {},
      "outputs": [],
      "source": [
        "image_size = (128, 128)\n",
        "batch_size = 32\n",
        "num_classes = 36\n",
        "\n",
        "train_datagen = ImageDataGenerator(\n",
        "    rescale=1.0 / 255,\n",
        "    rotation_range=20,\n",
        "    width_shift_range=0.2,\n",
        "    height_shift_range=0.2,\n",
        "    shear_range=0.2,\n",
        "    zoom_range=0.2,\n",
        "    horizontal_flip=True,\n",
        ")\n",
        "\n",
        "validation_datagen = ImageDataGenerator(rescale=1.0 / 255)\n",
        "test_datagen = ImageDataGenerator(rescale=1.0 / 255)"
      ]
    },
    {
      "cell_type": "markdown",
      "id": "de4082d2",
      "metadata": {},
      "source": [
        "## SENDING DATA FOR TRAINING"
      ]
    },
    {
      "cell_type": "code",
      "execution_count": null,
      "id": "11d30295",
      "metadata": {},
      "outputs": [],
      "source": [
        "train_generator = train_datagen.flow_from_directory(\n",
        "    train_dir,\n",
        "    target_size=image_size,\n",
        "    batch_size=batch_size,\n",
        "    class_mode=\"categorical\",\n",
        ")\n",
        "\n",
        "validation_generator = validation_datagen.flow_from_directory(\n",
        "    validation_dir,\n",
        "    target_size=image_size,\n",
        "    batch_size=batch_size,\n",
        "    class_mode=\"categorical\",\n",
        ")\n",
        "\n",
        "test_generator = test_datagen.flow_from_directory(\n",
        "    test_dir,\n",
        "    target_size=image_size,\n",
        "    batch_size=batch_size,\n",
        "    class_mode=\"categorical\",\n",
        ")"
      ]
    },
    {
      "cell_type": "markdown",
      "id": "7cf8d013",
      "metadata": {},
      "source": [
        "## MODEL INITIALIZATION"
      ]
    },
    {
      "cell_type": "code",
      "execution_count": null,
      "id": "4ea39cfc",
      "metadata": {},
      "outputs": [],
      "source": [
        "model = Sequential([\n",
        "    Conv2D(32, (3, 3), activation='relu', padding='same', input_shape=(128, 128, 3)),\n",
        "    BatchNormalization(),\n",
        "    MaxPooling2D((2, 2)),\n",
        "\n",
        "    Conv2D(32, (3, 3), activation='relu', padding='same'),\n",
        "    BatchNormalization(),\n",
        "    MaxPooling2D((2, 2)),\n",
        "\n",
        "    Conv2D(64, (3, 3), activation='relu', padding='same'),\n",
        "    BatchNormalization(),\n",
        "    MaxPooling2D((2, 2)),\n",
        "\n",
        "    Conv2D(64, (3, 3), activation='relu', padding='same'),\n",
        "    BatchNormalization(),\n",
        "    MaxPooling2D((2, 2)),\n",
        "\n",
        "    Conv2D(128, (3, 3), activation='relu', padding='same'),\n",
        "    BatchNormalization(),\n",
        "    MaxPooling2D((2, 2)),\n",
        "    Dropout(0.5),\n",
        "\n",
        "    Flatten(),\n",
        "\n",
        "    Dense(512, activation='relu'),\n",
        "    BatchNormalization(),\n",
        "    Dropout(0.2),\n",
        "    Dense(128, activation='relu'),\n",
        "    BatchNormalization(),\n",
        "    Dropout(0.3),\n",
        "\n",
        "    Dense(36, activation='softmax')\n",
        "])"
      ]
    },
    {
      "cell_type": "markdown",
      "id": "e498e3e4",
      "metadata": {},
      "source": [
        "## COMPILING MODEL"
      ]
    },
    {
      "cell_type": "code",
      "execution_count": null,
      "id": "6d653b5e",
      "metadata": {},
      "outputs": [],
      "source": [
        "model.compile(\n",
        "    optimizer=\"adam\",\n",
        "    loss=\"categorical_crossentropy\",\n",
        "    metrics=[\"accuracy\"],\n",
        ")\n",
        "\n",
        "model.summary()\n",
        "\n",
        "early_stopping = EarlyStopping(monitor=\"val_loss\", patience=5, restore_best_weights=True)\n",
        "\n",
        "history = model.fit(\n",
        "    train_generator,\n",
        "    steps_per_epoch=train_generator.samples // batch_size,\n",
        "    validation_data=validation_generator,\n",
        "    validation_steps=validation_generator.samples // batch_size,\n",
        "    epochs=20,\n",
        "    callbacks=[early_stopping],\n",
        ")\n",
        "\n",
        "loss, accuracy = model.evaluate(test_generator)\n",
        "print(f\"Test Accuracy: {accuracy * 100:.2f}%\")"
      ]
    },
    {
      "cell_type": "markdown",
      "id": "312af7ce",
      "metadata": {},
      "source": [
        "## SAVING TRAINED MODEL"
      ]
    },
    {
      "cell_type": "code",
      "execution_count": null,
      "id": "a0ec0752",
      "metadata": {},
      "outputs": [],
      "source": [
        "model.save(\"fruit_vegetable_classifier_5.keras\")"
      ]
    },
    {
      "cell_type": "markdown",
      "id": "7c88b7fa",
      "metadata": {},
      "source": [
        "## GENERATING PREDICTIONS"
      ]
    },
    {
      "cell_type": "code",
      "execution_count": null,
      "id": "8d8f87b3",
      "metadata": {
        "id": "8d8f87b3",
        "outputId": "4bc19925-e31e-49e6-b78b-e2ddb6419ab1"
      },
      "outputs": [],
      "source": [
        "from tensorflow.keras.preprocessing.image import load_img, img_to_array\n",
        "\n",
        "def predict_single_image(image_path, model, class_indices):\n",
        "\n",
        "    image = load_img(image_path, target_size=(128, 128))\n",
        "    image_array = img_to_array(image)\n",
        "    image_array = np.expand_dims(image_array, axis=0)\n",
        "    image_array = image_array / 255.0\n",
        "\n",
        "    predictions = model.predict(image_array)\n",
        "    predicted_class_index = np.argmax(predictions)\n",
        "    class_labels = {v: k for k, v in class_indices.items()}\n",
        "    predicted_class_name = class_labels[predicted_class_index]\n",
        "\n",
        "    return predicted_class_name\n",
        "\n",
        "if __name__ == \"__main__\":\n",
        "    single_image_path = \"/Users/swastika/Fruit_Vegetable_Recognition/istockphoto-466175630-612x612.jpg\"\n",
        "\n",
        "    class_indices = train_generator.class_indices\n",
        "\n",
        "    predicted_class = predict_single_image(single_image_path, model, class_indices)\n",
        "    print(f\"The predicted class is: {predicted_class}\")\n"
      ]
    },
    {
      "cell_type": "markdown",
      "id": "5683a9b8",
      "metadata": {},
      "source": [
        "## STREAMLIT APP(FOR COLAB)"
      ]
    },
    {
      "cell_type": "code",
      "execution_count": null,
      "id": "34db5d8a",
      "metadata": {
        "colab": {
          "base_uri": "https://localhost:8080/"
        },
        "id": "34db5d8a",
        "outputId": "8ff70190-525b-4e6c-ece7-25a612c4b185"
      },
      "outputs": [],
      "source": [
        "%%writefile app.py\n",
        "import streamlit as st\n",
        "from PIL import Image\n",
        "import requests\n",
        "from bs4 import BeautifulSoup\n",
        "import numpy as np\n",
        "import os\n",
        "from keras.preprocessing.image import load_img, img_to_array\n",
        "from keras.models import load_model\n",
        "\n",
        "model = load_model('/content/fruit_vegetable_classifier_5.keras')\n",
        "\n",
        "labels = {0: 'apple', 1: 'banana', 2: 'beetroot', 3: 'bell pepper', 4: 'cabbage', 5: 'capsicum', 6: 'carrot',\n",
        "          7: 'cauliflower', 8: 'chilli pepper', 9: 'corn', 10: 'cucumber', 11: 'eggplant', 12: 'garlic', 13: 'ginger',\n",
        "          14: 'grapes', 15: 'jalepeno', 16: 'kiwi', 17: 'lemon', 18: 'lettuce',\n",
        "          19: 'mango', 20: 'onion', 21: 'orange', 22: 'paprika', 23: 'pear', 24: 'peas', 25: 'pineapple',\n",
        "          26: 'pomegranate', 27: 'potato', 28: 'raddish', 29: 'soy beans', 30: 'spinach', 31: 'sweetcorn',\n",
        "          32: 'sweetpotato', 33: 'tomato', 34: 'turnip', 35: 'watermelon'}\n",
        "\n",
        "fruits = ['Apple', 'Banana', 'Bello Pepper', 'Chilli Pepper', 'Grapes', 'Jalepeno', 'Kiwi', 'Lemon', 'Mango', 'Orange',\n",
        "          'Paprika', 'Pear', 'Pineapple', 'Pomegranate', 'Watermelon']\n",
        "vegetables = ['Beetroot', 'Cabbage', 'Capsicum', 'Carrot', 'Cauliflower', 'Corn', 'Cucumber', 'Eggplant', 'Ginger',\n",
        "              'Lettuce', 'Onion', 'Peas', 'Potato', 'Raddish', 'Soy Beans', 'Spinach', 'Sweetcorn', 'Sweetpotato',\n",
        "              'Tomato', 'Turnip']\n",
        "\n",
        "\n",
        "def fetch_calories(prediction):\n",
        "    try:\n",
        "        url = 'https://www.google.com/search?&q=calories in ' + prediction\n",
        "        req = requests.get(url).text\n",
        "        scrap = BeautifulSoup(req, 'html.parser')\n",
        "        calories = scrap.find(\"div\", class_=\"BNeawe iBp4i AP7Wnd\").text\n",
        "        return calories\n",
        "    except Exception as e:\n",
        "        st.error(\"Can't able to fetch the Calories\")\n",
        "        print(e)\n",
        "\n",
        "\n",
        "def prepare_image(img_path):\n",
        "    img = load_img(img_path, target_size=(150, 150, 3))\n",
        "    img = img_to_array(img)\n",
        "    img = img / 255\n",
        "    img = np.expand_dims(img, [0])\n",
        "    answer = model.predict(img)\n",
        "    y_class = answer.argmax(axis=-1)\n",
        "    print(y_class)\n",
        "    y = \" \".join(str(x) for x in y_class)\n",
        "    y = int(y)\n",
        "    res = labels[y]\n",
        "    print(res)\n",
        "    return res.capitalize()\n",
        "\n",
        "\n",
        "def run():\n",
        "    st.title(\"Fruits🍍-Vegetable🍅 Classification\")\n",
        "    img_file = st.file_uploader(\"Choose an Image\", type=[\"jpg\", \"png\"])\n",
        "    if img_file is not None:\n",
        "        img = Image.open(img_file).resize((150, 150))\n",
        "        st.image(img, use_column_width=False)\n",
        "\n",
        "        os.makedirs('/content/upload_images/', exist_ok=True)\n",
        "        save_image_path = os.path.join('/content/upload_images/', img_file.name)\n",
        "\n",
        "        with open(save_image_path, \"wb\") as f:\n",
        "            f.write(img_file.getbuffer())\n",
        "\n",
        "        if img_file is not None:\n",
        "            result = prepare_image(save_image_path)\n",
        "            if result in vegetables:\n",
        "                st.info('**Category : Vegetables**')\n",
        "            else:\n",
        "                st.info('**Category : Fruit**')\n",
        "            st.success(\"**Predicted : \" + result + '**')\n",
        "            cal = fetch_calories(result)\n",
        "            if cal:\n",
        "                st.warning('**' + cal + '(100 grams)**')\n",
        "\n",
        "\n",
        "run()"
      ]
    },
    {
      "cell_type": "code",
      "execution_count": null,
      "id": "aExOkcwmUhWy",
      "metadata": {
        "id": "aExOkcwmUhWy"
      },
      "outputs": [],
      "source": [
        "from pyngrok import ngrok\n",
        "\n",
        "ngrok.set_auth_token(\"2p4cfUTD3Etyk9ZTKFKVM0sUApg_2HwDLkW6ruwsAPo6rHCys\")"
      ]
    },
    {
      "cell_type": "code",
      "execution_count": null,
      "id": "uSoKXzKcUovn",
      "metadata": {
        "colab": {
          "base_uri": "https://localhost:8080/"
        },
        "id": "uSoKXzKcUovn",
        "outputId": "08131470-e066-4fc1-d988-9bebee5d45d2"
      },
      "outputs": [],
      "source": [
        "pip install pyngrok"
      ]
    },
    {
      "cell_type": "code",
      "execution_count": null,
      "id": "yjwX-5UVUkuE",
      "metadata": {
        "colab": {
          "background_save": true,
          "base_uri": "https://localhost:8080/"
        },
        "id": "yjwX-5UVUkuE",
        "outputId": "de2558bc-e35a-459d-e5cc-f0e4111ef5e2"
      },
      "outputs": [],
      "source": [
        "!streamlit run app.py & npx localtunnel --port 8501 & curl ipv4.icanhazip.com"
      ]
    },
    {
      "cell_type": "code",
      "execution_count": null,
      "id": "Nry4gpIJVZUX",
      "metadata": {
        "colab": {
          "base_uri": "https://localhost:8080/"
        },
        "id": "Nry4gpIJVZUX",
        "outputId": "ccfb2199-4689-4a3b-d705-7a5b898b0268"
      },
      "outputs": [],
      "source": [
        "#!npm install localtunnel"
      ]
    }
  ],
  "metadata": {
    "colab": {
      "provenance": []
    },
    "interpreter": {
      "hash": "7e1998ff7f8aa20ada591c520b972326324e5ea05489af9e422744c7c09f6dad"
    },
    "kernelspec": {
      "display_name": "Python 3.10.6 64-bit",
      "language": "python",
      "name": "python3"
    },
    "language_info": {
      "codemirror_mode": {
        "name": "ipython",
        "version": 3
      },
      "file_extension": ".py",
      "mimetype": "text/x-python",
      "name": "python",
      "nbconvert_exporter": "python",
      "pygments_lexer": "ipython3",
      "version": "3.10.6"
    },
    "papermill": {
      "default_parameters": {},
      "duration": 1124.050414,
      "end_time": "2021-11-02T04:31:32.927130",
      "environment_variables": {},
      "exception": null,
      "input_path": "__notebook__.ipynb",
      "output_path": "__notebook__.ipynb",
      "parameters": {},
      "start_time": "2021-11-02T04:12:48.876716",
      "version": "2.3.3"
    }
  },
  "nbformat": 4,
  "nbformat_minor": 5
}
